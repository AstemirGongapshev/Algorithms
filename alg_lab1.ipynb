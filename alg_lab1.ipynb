{
 "cells": [
  {
   "cell_type": "code",
   "execution_count": null,
   "id": "5e9e6c82-746e-421b-87b3-96ee4c91e004",
   "metadata": {},
   "outputs": [],
   "source": [
    "#1\n",
    "alpha5 = ((high + low - 2*close)/2*close).shift(1)\n",
    "alpha7 = normalize(neutralize(truncate(alpha5))).fillna(0) \n",
    "\n",
    "# переписал функцию truncate через циклы. \n",
    "def truncate_manual(df, threshold=0.01):\n",
    "    trunc_alpha = [row[:] for row in df] \n",
    "    \n",
    "    for i in range(len(trunc_alpha)): # по каждой строке \n",
    "        for j in range(len(trunc_alpha[i])): # по каждому элементу строки \n",
    "            if trunc_alpha[i][j] > threshold:\n",
    "                trunc_alpha[i][j] = threshold * (1 if trunc_alpha[i][j] > 0 else -1)\n",
    "\n",
    "    long_sum = sum(value for row in trunc_alpha for value in row if value > 0)\n",
    "    short_sum = sum(value for row in trunc_alpha for value in row if value < 0)\n",
    "\n",
    "    for i in range(len(trunc_alpha)):\n",
    "        for j in range(len(trunc_alpha[i])):\n",
    "            if trunc_alpha[i][j] > 0:\n",
    "                trunc_alpha[i][j] /= long_sum * 0.5\n",
    "            elif trunc_alpha[i][j] < 0:\n",
    "                trunc_alpha[i][j] /= -short_sum * 0.5\n",
    "\n",
    "    return trunc_alpha\n",
    "\n",
    "#Создание копии DataFrame ([row[:] for row in df]): O(nm).\n",
    "#Двойной цикл для условного присвоения: O(nm) в худшем случае.\n",
    "#Вычисление long_sum и short_sum с использованием генераторов списков: O(nm).\n",
    "#Еще один двойной цикл для нормализации: O(nm) в худшем случае.\n",
    "#Общая временная сложность: O(nm), где n — количество строк, m — количество столбцов.\n",
    "#Пространственная сложность:\n",
    "#Копия DataFrame: O(nm) для хранения копии.\n",
    "#Общая пространственная сложность: O(nm).\n",
    "\n",
    "#Функция neutralize\n",
    "#Поэлементная сложность: Операция alpha.T (транспонирование) - O(1) в pandas, так как это просто изменение метаданных, а не физическое перестроение данных.\n",
    "#Вычитание среднего по столбцам (alpha.T.mean()) - O(nm),так как вычисляется среднее для каждого столбца.\n",
    "#Асимптотическая сложность: О(total) = O(nm).\n",
    "\n",
    "#Функция normalize\n",
    "#Поэлементная сложность: Операция alpha.T аналогична. \n",
    "#Деление на сумму абсолютных значений (alpha.T.abs().sum(axis=0)) - O(nm), так как суммируются абсолютные значения каждого столбца.\n",
    "#Асимптотическая сложность: О(total) = O(nm).\n",
    "\n",
    "#Итого временная сложность 0(n * m), пространственная сложность тоже 0(n * m)   \n",
    "\n"
   ]
  },
  {
   "attachments": {},
   "cell_type": "markdown",
   "id": "0c6a21da",
   "metadata": {},
   "source": [
    "Треугольник "
   ]
  },
  {
   "cell_type": "code",
   "execution_count": 11,
   "id": "d222fc3b-f8b9-4fcd-99d1-f37f902ea9e5",
   "metadata": {},
   "outputs": [],
   "source": [
    "with open(\"input.txt\", \"r\") as file:\n",
    "    a = int(file.readline())\n",
    "    b = int(file.readline())\n",
    "    c = int(file.readline())\n",
    "\n",
    "\n",
    "def is_triangle(a, b, c):\n",
    "    if a <= 0 or b <= 0 or c <= 0:\n",
    "        return \"NO\"\n",
    "    elif a + b > c and a + c > b and b + c > a:\n",
    "        return \"YES\"\n",
    "    else:\n",
    "        return \"NO\"\n",
    "\n",
    "result = is_triangle(a, b, c)\n",
    "with open(\"output.txt\", \"w\") as output_file:\n",
    "    output_file.write(result)\n"
   ]
  },
  {
   "cell_type": "code",
   "execution_count": 15,
   "id": "7f2bf8f6",
   "metadata": {},
   "outputs": [
    {
     "name": "stdout",
     "output_type": "stream",
     "text": [
      "YES\n",
      "YES\n",
      "YES\n"
     ]
    }
   ],
   "source": [
    "print(is_triangle(3,4,5)) #YES\n",
    "print(is_triangle(3,5,4)) #YES\n",
    "print(is_triangle(4,5,3)) #YES"
   ]
  },
  {
   "cell_type": "code",
   "execution_count": null,
   "id": "2e19d352-67c5-4c27-ab7b-3eab6d33096c",
   "metadata": {},
   "outputs": [],
   "source": [
    "# подъезд\n",
    "def _():\n",
    "    pass"
   ]
  },
  {
   "attachments": {},
   "cell_type": "markdown",
   "id": "b8c24c7c",
   "metadata": {},
   "source": [
    "Решите в целых числах уравнение: {ax+b}*0.5 = c. a, b, c -- данные целые числа.\n",
    "Найти все решения или сообщить, что решений в целых числах нет.\n"
   ]
  },
  {
   "cell_type": "code",
   "execution_count": 7,
   "id": "7e84e860-5a9a-4741-b3cb-b93b115f8b4d",
   "metadata": {},
   "outputs": [],
   "source": [
    "a = int(input())\n",
    "b = int(input())\n",
    "c = int(input())\n",
    "\n",
    "def solve_equation(a, b, c):\n",
    "    if c >= 0:\n",
    "        if a == 0:\n",
    "            if b == c**2:\n",
    "                return \"MANY SOLUTIONS\"\n",
    "            else:\n",
    "                return \"NO SOLUTION\"\n",
    "        else:\n",
    "            discrim = c**2 - b\n",
    "            if  discrim % a == 0:\n",
    "                x = discrim // a\n",
    "                return x\n",
    "            else:\n",
    "                return \"NO SOLUTION\"\n",
    "    else:\n",
    "        return \"NO SOLUTION\"\n",
    "\n",
    "print(solve_equation(a, b, c))\n"
   ]
  },
  {
   "cell_type": "code",
   "execution_count": 17,
   "id": "dbe3f599",
   "metadata": {},
   "outputs": [
    {
     "name": "stdout",
     "output_type": "stream",
     "text": [
      "0\n",
      "7\n",
      "NO SOLUTION\n"
     ]
    }
   ],
   "source": [
    "print(solve_equation(1,0,0)) # 0\n",
    "print(solve_equation(1,2,3)) # 7 \n",
    "print(solve_equation(1,2,-3)) # NO SOLUTION"
   ]
  },
  {
   "attachments": {},
   "cell_type": "markdown",
   "id": "cb5b99c3",
   "metadata": {},
   "source": [
    "5. Имеется N кг металлического сплава. Из него изготавливают заготовки массой K кг каждая.\n",
    "После этого из каждой заготовки вытачиваются детали массой M кг каждая (из каждой заготовки вытачивают максимально возможное количество деталей). \n",
    "Если от заготовок после этого что-то остается, то этот материал возвращают к началу производственного цикла и сплавляют с тем, \n",
    "что осталось при изготовлении заготовок. \n",
    "Если того сплава, который получился, достаточно для изготовления хотя бы одной заготовки, \n",
    "то из него снова изготавливают заготовки, из них – детали и т.д. \n",
    "Напишите программу, которая вычислит, какое количество деталей может быть получено по этой технологии из имеющихся исходно N кг сплава.\n"
   ]
  },
  {
   "cell_type": "code",
   "execution_count": 7,
   "id": "68571c4d-794c-433b-b9dc-958415231264",
   "metadata": {},
   "outputs": [],
   "source": [
    "\n",
    "nums = input().split()\n",
    "\n",
    "def calculate_details(n, k, m):\n",
    "    total_details = 0  \n",
    "    residue = n       \n",
    "\n",
    "    \n",
    "    if n < k or k < m or n < m:\n",
    "        return 0\n",
    "\n",
    "\n",
    "    while residue >= k:\n",
    "       \n",
    "        blanks = residue // k\n",
    "      \n",
    "        residue -= k * blanks\n",
    "       \n",
    "        total_details += blanks * (k // m)\n",
    "       \n",
    "        residue += blanks * (k % m)\n",
    "\n",
    "    return total_details\n",
    "\n",
    "\n",
    "\n",
    "\n",
    "\n",
    "print(calculate_details(int(nums[0]), int(nums[1]), int(nums[2])))\n"
   ]
  },
  {
   "cell_type": "code",
   "execution_count": 9,
   "metadata": {},
   "outputs": [
    {
     "name": "stdout",
     "output_type": "stream",
     "text": [
      "4\n",
      "3\n",
      "4\n"
     ]
    }
   ],
   "source": [
    "print(calculate_details(10, 5, 2)) #4\n",
    "print(calculate_details(13, 5, 3)) #3\n",
    "print(calculate_details(14, 5, 3)) #4"
   ]
  },
  {
   "attachments": {},
   "cell_type": "markdown",
   "id": "24083254",
   "metadata": {},
   "source": [
    "5. За многие годы заточения узник замка Иф проделал в стене прямоугольное отверстие размером D × E. Замок Иф сложен из кирпичей, размером A × B × C.\n",
    "#Определите, сможет ли узник выбрасывать кирпичи в море через это отверстие, если стороны кирпича должны быть параллельны сторонам отверстия."
   ]
  },
  {
   "cell_type": "code",
   "execution_count": 13,
   "id": "8026c5ec-005b-4c41-aa12-e41d2c864b4f",
   "metadata": {},
   "outputs": [],
   "source": [
    "\n",
    "#A = int(input())\n",
    "#B = int(input())\n",
    "#C = int(input())\n",
    "#D = int(input())\n",
    "# = int(input())\n",
    "\n",
    "\n",
    "def can_throw(A, B, C, D, E):\n",
    "   \n",
    "    brick = sorted([A, B, C])\n",
    "    hole = sorted([D, E])\n",
    "\n",
    "    if brick[0] <= hole[0] and brick[1] <= hole[1]:\n",
    "        return \"YES\"\n",
    "    else:\n",
    "        return \"NO\"\n",
    "        \n",
    "#result = can_throw_brick_through_hole(A, B, C, D, E)\n",
    "#print(result)\n"
   ]
  },
  {
   "cell_type": "code",
   "execution_count": 15,
   "id": "5cf4b860",
   "metadata": {},
   "outputs": [
    {
     "name": "stdout",
     "output_type": "stream",
     "text": [
      "YES\n",
      "NO\n"
     ]
    }
   ],
   "source": [
    "print(can_throw(1,1,1,1,1)) # YES\n",
    "print(can_throw(2,2,2,1,1)) #NO\n",
    "\n"
   ]
  },
  {
   "attachments": {},
   "cell_type": "markdown",
   "id": "4596cbfb",
   "metadata": {},
   "source": [
    "Даны числа a,b,c,d,e,f. Решить систему линейных уравнений:\n",
    "\n",
    "ax+by=e\n",
    "\n",
    "cx+dy=f\n",
    "\n",
    "Учесть все возможные случаи.\n",
    "\n",
    "Если система не имеет решений, то программа должна вывести единственное число 0.\n",
    "Если система имеет бесконечно много решений, каждое из которых имеет вид y=kx+b, то программа должна вывести число 1, а затем значения k и b.\n",
    "Если система имеет единственное решение (x0,y0), то программа должна вывести число 2, а затем значения x0 и y0.\n",
    "Если система имеет бесконечно много решений вида x=x0, y — любое, то программа должна вывести число 3, а затем значение x0.\n",
    "Если система имеет бесконечно много решений вида y=y0, x — любое, то программа должна вывести число 4, а затем значение y0.\n",
    "Если любая пара чисел (x,y) является решением, то программа должна вывести число 5."
   ]
  },
  {
   "cell_type": "code",
   "execution_count": 4,
   "id": "0489f186-3379-4887-82ec-a8ef8fa86514",
   "metadata": {},
   "outputs": [
    {
     "name": "stdout",
     "output_type": "stream",
     "text": [
      "4 0.5\n"
     ]
    }
   ],
   "source": [
    "\n",
    "a = int(input())\n",
    "b = int(input())\n",
    "c = int(input())\n",
    "d = int(input())\n",
    "e = int(input())\n",
    "f = int(input())\n",
    "\n",
    "def solve_system(a, b, c, d, e, f):\n",
    "    det = a * d - b * c\n",
    "    if det == 0:\n",
    "        if a == 0 and b == 0:\n",
    "            if e != 0:\n",
    "                print(0)\n",
    "            elif c == 0 and d == 0 and f == 0:\n",
    "                print(5)\n",
    "            elif c == 0 and d != 0:\n",
    "                print(4, f / d)\n",
    "            elif d == 0 and c != 0:\n",
    "                print(3, f / c)\n",
    "            else:\n",
    "                print(1, -c / d, f / d)\n",
    "        elif c == 0 and d == 0:\n",
    "            if f != 0:\n",
    "                print(0)\n",
    "            elif a == 0 and b != 0:\n",
    "                print(4, e / b)\n",
    "            elif b == 0 and a != 0:\n",
    "                print(3, e / a)\n",
    "            else:\n",
    "                print(1, -a / b, e / b)\n",
    "        elif a == 0 and c == 0:\n",
    "            if e / b == f / d:\n",
    "                print(4, e / b)\n",
    "            else:\n",
    "                print(0)\n",
    "        elif b == 0 and d == 0:\n",
    "            if e / a == f / c:\n",
    "                print(3, e / a)\n",
    "            else:\n",
    "                print(0)\n",
    "        else:\n",
    "            if b * c == a * d and a * f == c * e and b * f == d * e:\n",
    "                print(1, -a / b, e / b)\n",
    "            else:\n",
    "                print(0)\n",
    "    else:\n",
    "        x = (e * d - b * f) / det\n",
    "        y = (a * f - e * c) / det\n",
    "        print(2, x, y)\n",
    "\n",
    "\n",
    "solve_system(a, b, c, d, e, f)\n"
   ]
  },
  {
   "cell_type": "code",
   "execution_count": 5,
   "id": "0270072f",
   "metadata": {},
   "outputs": [
    {
     "name": "stdout",
     "output_type": "stream",
     "text": [
      "2 3.0 3.0\n",
      "1 -1.0 1.0\n",
      "4 0.5\n"
     ]
    }
   ],
   "source": [
    "solve_system(1, 0, 0, 1, 3, 3) # 2 3 3\n",
    "solve_system(1, 1, 2, 2, 1, 2) # 1 -1 1 \n",
    "solve_system(0, 2, 0, 4, 1, 2) # 4 0.5"
   ]
  },
  {
   "cell_type": "code",
   "execution_count": null,
   "id": "45c29ca5",
   "metadata": {},
   "outputs": [],
   "source": []
  }
 ],
 "metadata": {
  "kernelspec": {
   "display_name": "Python 3 (ipykernel)",
   "language": "python",
   "name": "python3"
  },
  "language_info": {
   "codemirror_mode": {
    "name": "ipython",
    "version": 3
   },
   "file_extension": ".py",
   "mimetype": "text/x-python",
   "name": "python",
   "nbconvert_exporter": "python",
   "pygments_lexer": "ipython3",
   "version": "3.9.7"
  }
 },
 "nbformat": 4,
 "nbformat_minor": 5
}
