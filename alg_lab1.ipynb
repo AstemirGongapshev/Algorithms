{
 "cells": [
  {
   "cell_type": "code",
   "execution_count": null,
   "id": "5e9e6c82-746e-421b-87b3-96ee4c91e004",
   "metadata": {},
   "outputs": [],
   "source": [
    "#1\n",
    "alpha5 = ((high + low - 2*close)/2*close).shift(1)\n",
    "alpha7 = normalize(neutralize(truncate(alpha5))).fillna(0) \n",
    "\n",
    "# переписал функцию truncate через циклы. \n",
    "def truncate_manual(df, threshold=0.01):\n",
    "    trunc_alpha = [row[:] for row in df] \n",
    "    \n",
    "    for i in range(len(trunc_alpha)): # по каждой строке \n",
    "        for j in range(len(trunc_alpha[i])): # по каждому элементу строки \n",
    "            if trunc_alpha[i][j] > threshold:\n",
    "                trunc_alpha[i][j] = threshold * (1 if trunc_alpha[i][j] > 0 else -1)\n",
    "\n",
    "    long_sum = sum(value for row in trunc_alpha for value in row if value > 0)\n",
    "    short_sum = sum(value for row in trunc_alpha for value in row if value < 0)\n",
    "\n",
    "    for i in range(len(trunc_alpha)):\n",
    "        for j in range(len(trunc_alpha[i])):\n",
    "            if trunc_alpha[i][j] > 0:\n",
    "                trunc_alpha[i][j] /= long_sum * 0.5\n",
    "            elif trunc_alpha[i][j] < 0:\n",
    "                trunc_alpha[i][j] /= -short_sum * 0.5\n",
    "\n",
    "    return trunc_alpha\n",
    "\n",
    "#Создание копии DataFrame ([row[:] for row in df]): O(nm).\n",
    "#Двойной цикл для условного присвоения: O(nm) в худшем случае.\n",
    "#Вычисление long_sum и short_sum с использованием генераторов списков: O(nm).\n",
    "#Еще один двойной цикл для нормализации: O(nm) в худшем случае.\n",
    "#Общая временная сложность: O(nm), где n — количество строк, m — количество столбцов.\n",
    "#Пространственная сложность:\n",
    "#Копия DataFrame: O(nm) для хранения копии.\n",
    "#Общая пространственная сложность: O(nm).\n",
    "\n",
    "#Функция neutralize\n",
    "#Поэлементная сложность: Операция alpha.T (транспонирование) - O(1) в pandas, так как это просто изменение метаданных, а не физическое перестроение данных.\n",
    "#Вычитание среднего по столбцам (alpha.T.mean()) - O(nm),так как вычисляется среднее для каждого столбца.\n",
    "#Асимптотическая сложность: О(total) = O(nm).\n",
    "\n",
    "#Функция normalize\n",
    "#Поэлементная сложность: Операция alpha.T аналогична. \n",
    "#Деление на сумму абсолютных значений (alpha.T.abs().sum(axis=0)) - O(nm), так как суммируются абсолютные значения каждого столбца.\n",
    "#Асимптотическая сложность: О(total) = O(nm).\n",
    "\n",
    "#Итого временная сложность 0(n * m), пространственная сложность тоже 0(n * m)   \n",
    "\n"
   ]
  },
  {
   "cell_type": "code",
   "execution_count": 2,
   "id": "d222fc3b-f8b9-4fcd-99d1-f37f902ea9e5",
   "metadata": {},
   "outputs": [
    {
     "name": "stdin",
     "output_type": "stream",
     "text": [
      "Введите длину первой стороны:  5\n",
      "Введите длину второй стороны:  5\n",
      "Введите длину третьей стороны:  2.4\n"
     ]
    },
    {
     "name": "stdout",
     "output_type": "stream",
     "text": [
      "Ошибка: Введите только целые положительные числа.\n"
     ]
    }
   ],
   "source": [
    "# дз 1 Даны три натуральных числа. Возможно ли построить треугольник с такими сторонами.\n",
    "# Если это возможно, выведите строку YES, иначе выведите строку NO. Треугольник — это три точки, не лежащие на одной прямой.\n",
    "# Используем a+b>c, a+c>b, b+c>a\n",
    "\n",
    "def is_triangle(a, b, c):\n",
    "    if a <= 0 or b <= 0 or c <= 0:\n",
    "        return \"NO\"\n",
    "    elif a + b > c and a + c > b and b + c > a:\n",
    "        return \"YES\"\n",
    "    else:\n",
    "        return \"NO\"\n",
    "\n",
    "try:\n",
    "    a = int(input(\"Введите длину первой стороны: \"))\n",
    "    b = int(input(\"Введите длину второй стороны: \"))\n",
    "    c = int(input(\"Введите длину третьей стороны: \"))\n",
    "except ValueError:\n",
    "    print(\"Ошибка: Введите только целые положительные числа.\")\n",
    "else:\n",
    "    result = is_triangle(a, b, c)\n",
    "    print(result)\n"
   ]
  },
  {
   "cell_type": "code",
   "execution_count": null,
   "id": "2e19d352-67c5-4c27-ab7b-3eab6d33096c",
   "metadata": {},
   "outputs": [],
   "source": [
    "#Решите в целых числах уравнение: {ax+b}*0.5 = c. a, b, c -- данные целые числа.\n",
    "#Найти все решения или сообщить, что решений в целых числах нет."
   ]
  },
  {
   "cell_type": "code",
   "execution_count": null,
   "id": "7e84e860-5a9a-4741-b3cb-b93b115f8b4d",
   "metadata": {},
   "outputs": [],
   "source": [
    "def solve_equation(a, b, c):\n",
    "    if a == 0:\n",
    "        if b == c**2:\n",
    "            return \"Решение в целых числах: любое целое значение x\"\n",
    "        else:\n",
    "            return \"Решений в целых числах нет\"\n",
    "    else:\n",
    "        discrim = c**2 - b\n",
    "        if discrim >= 0 and discrim % a == 0:\n",
    "            x = discrim // a\n",
    "            return f\"Решение в целых числах: x = {x}\"\n",
    "        else:\n",
    "            return \"Решений в целых числах нет\"\n",
    "\n",
    "\n",
    "try:\n",
    "    a = int(input(\"Введите значение a: \"))\n",
    "    b = int(input(\"Введите значение b: \"))\n",
    "    c = int(input(\"Введите значение c: \"))\n",
    "except ValueError:\n",
    "    print(\"Ошибка: Введите целые числа.\")\n",
    "else:\n",
    "    \n",
    "    result = solve_equation(a, b, c)\n",
    "    print(result)\n"
   ]
  },
  {
   "cell_type": "code",
   "execution_count": 6,
   "id": "68571c4d-794c-433b-b9dc-958415231264",
   "metadata": {},
   "outputs": [
    {
     "data": {
      "text/plain": [
       "[4, 3, 4]"
      ]
     },
     "execution_count": 6,
     "metadata": {},
     "output_type": "execute_result"
    }
   ],
   "source": [
    "#5. Имеется N кг металлического сплава. Из него изготавливают заготовки массой K кг каждая.\n",
    "#После этого из каждой заготовки вытачиваются детали массой M кг каждая (из каждой заготовки вытачивают максимально возможное количество деталей). \n",
    "#Если от заготовок после этого что-то остается, то этот материал возвращают к началу производственного цикла и сплавляют с тем, \n",
    "#что осталось при изготовлении заготовок. \n",
    "#Если того сплава, который получился, достаточно для изготовления хотя бы одной заготовки, \n",
    "#то из него снова изготавливают заготовки, из них – детали и т.д. \n",
    "#Напишите программу, которая вычислит, какое количество деталей может быть получено по этой технологии из имеющихся исходно N кг сплава.\n",
    "\n",
    "\n",
    "def calculate_details(N, K, M):\n",
    "    total_details = 0\n",
    "    residue = N\n",
    "\n",
    "    while residue >= K:\n",
    "       \n",
    "        blanks = residue // K\n",
    "       \n",
    "        residue = residue % K\n",
    "      \n",
    "        for _ in range(blanks):\n",
    "            \n",
    "            details_from_blank = K // M\n",
    "            \n",
    "            total_details += details_from_blank\n",
    "            \n",
    "            residue += K - details_from_blank * M\n",
    "\n",
    "    return total_details\n",
    "\n",
    "# Тестирование функции на предоставленных примерах\n",
    "examples = [\n",
    "    (10, 5, 2), # Пример 1\n",
    "    (13, 5, 3), # Пример 2\n",
    "    (14, 5, 3)  # Пример 3\n",
    "]\n",
    "\n",
    "results = [calculate_details(*ex) for ex in examples]\n",
    "results\n"
   ]
  },
  {
   "cell_type": "code",
   "execution_count": 7,
   "id": "8026c5ec-005b-4c41-aa12-e41d2c864b4f",
   "metadata": {},
   "outputs": [
    {
     "data": {
      "text/plain": [
       "['YES', 'NO']"
      ]
     },
     "execution_count": 7,
     "metadata": {},
     "output_type": "execute_result"
    }
   ],
   "source": [
    "#5. За многие годы заточения узник замка Иф проделал в стене прямоугольное отверстие размером D × E. Замок Иф сложен из кирпичей, размером A × B × C.\n",
    "#Определите, сможет ли узник выбрасывать кирпичи в море через это отверстие, если стороны кирпича должны быть параллельны сторонам отверстия.\n",
    "\n",
    "def can_throw_brick_through_hole(A, B, C, D, E):\n",
    "   \n",
    "    brick = sorted([A, B, C])\n",
    "    hole = sorted([D, E])\n",
    "\n",
    "    if brick[0] <= hole[0] and brick[1] <= hole[1]:\n",
    "        return \"YES\"\n",
    "    else:\n",
    "        return \"NO\"\n",
    "\n",
    "examples = [\n",
    "    (1, 1, 1, 1, 1), # Пример 1\n",
    "    (2, 2, 2, 1, 1)  # Пример 2\n",
    "]\n",
    "\n",
    "results = [can_throw_brick_through_hole(*ex) for ex in examples]\n",
    "results\n"
   ]
  },
  {
   "cell_type": "code",
   "execution_count": null,
   "id": "0489f186-3379-4887-82ec-a8ef8fa86514",
   "metadata": {},
   "outputs": [],
   "source": []
  }
 ],
 "metadata": {
  "kernelspec": {
   "display_name": "Python 3 (ipykernel)",
   "language": "python",
   "name": "python3"
  },
  "language_info": {
   "codemirror_mode": {
    "name": "ipython",
    "version": 3
   },
   "file_extension": ".py",
   "mimetype": "text/x-python",
   "name": "python",
   "nbconvert_exporter": "python",
   "pygments_lexer": "ipython3",
   "version": "3.11.5"
  }
 },
 "nbformat": 4,
 "nbformat_minor": 5
}
